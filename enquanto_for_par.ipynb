{
  "nbformat": 4,
  "nbformat_minor": 0,
  "metadata": {
    "colab": {
      "provenance": [],
      "authorship_tag": "ABX9TyN8/gAbFQ/ZAt2zpmZksMG3"
    },
    "kernelspec": {
      "name": "python3",
      "display_name": "Python 3"
    },
    "language_info": {
      "name": "python"
    }
  },
  "cells": [
    {
      "cell_type": "code",
      "execution_count": 10,
      "metadata": {
        "colab": {
          "base_uri": "https://localhost:8080/"
        },
        "id": "eJUc0FCV5UCr",
        "outputId": "3f8bbc24-0da4-4c62-df8b-d9d3b0bf0ae9"
      },
      "outputs": [
        {
          "output_type": "stream",
          "name": "stdout",
          "text": [
            "Digite um número: 2\n",
            "2\n",
            "Digite um número: 4\n",
            "4\n",
            "Digite um número: 6\n",
            "6\n",
            "Digite um número: 8\n",
            "8\n",
            "Digite um número: 10\n",
            "10\n",
            "Digite um número: 13\n",
            "Pronto. O último número que você digitou foi ímpar e, por isso, o programa foi encerrado. \n"
          ]
        }
      ],
      "source": [
        "numero = int(input(\"Digite um número: \"))\n",
        "\n",
        "while numero % 2 == 0:\n",
        "  print(numero)\n",
        "  numero = int(input(\"Digite um número: \"))\n",
        "print(\"Pronto. O último número que você digitou foi ímpar e, por isso, o programa foi encerrado. \")"
      ]
    }
  ]
}